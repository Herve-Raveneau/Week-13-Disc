{
 "cells": [
  {
   "cell_type": "markdown",
   "id": "17144344",
   "metadata": {},
   "source": [
    "# Week 13 Discussion\n",
    "\n",
    "# 1. Identify a recommender system web site\n",
    "\n",
    "* The recommender system website I chose was Pandora. Pandora is a subscription-based music streaming service owned by Sirius XM Holdings based in Oakland, California.The service carries a focus on recommendations based on the \"Music Genome Project\" — a means of classifying individual songs by musical traits. The service originally launched in the consumer market as an internet radio service, which would generate personalized channels based on these traits and songs liked by the user; this service is available in an advertising-supported tier, and a subscription-based version.\n",
    "\n",
    "\n",
    "# 2. Answer the three scenario design questions for this web site:\n",
    "\n",
    "\n",
    "## Who are your target users?\n",
    "\n",
    "* Pandora’s target users could be anyone who is looking for an online music  streaming service with a large library at an attractive price. \n",
    "\n",
    "## What are their key goals?\n",
    "\n",
    "* Pandora' s key goals would be to be able to offer their consumers' easy and affordable access the discographies of their favorite artists, as well as podcasts and or radio shows. Along with being able to give their customers the opportunity to discover new music and other content via the streaming service.\n",
    "\n",
    "##  How can you help them accomplish those goals? \n",
    "\n",
    "* They can do so via offering their customers a large variety of artists as well as creating effective recommendation algorithms in order to connect their users with a plethora of different music and other content. \n"
   ]
  }
 ],
 "metadata": {
  "kernelspec": {
   "display_name": "Python 3 (ipykernel)",
   "language": "python",
   "name": "python3"
  },
  "language_info": {
   "codemirror_mode": {
    "name": "ipython",
    "version": 3
   },
   "file_extension": ".py",
   "mimetype": "text/x-python",
   "name": "python",
   "nbconvert_exporter": "python",
   "pygments_lexer": "ipython3",
   "version": "3.9.7"
  }
 },
 "nbformat": 4,
 "nbformat_minor": 5
}
